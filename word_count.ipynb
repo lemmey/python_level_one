{
 "cells": [
  {
   "cell_type": "markdown",
   "metadata": {},
   "source": [
    "### `Clean and word frequencies on .txt files`\n",
    "___"
   ]
  },
  {
   "cell_type": "code",
   "execution_count": null,
   "metadata": {},
   "outputs": [],
   "source": [
    "import os\n",
    "import csv\n",
    "import re\n",
    "from pathlib import Path"
   ]
  },
  {
   "cell_type": "code",
   "execution_count": null,
   "metadata": {},
   "outputs": [],
   "source": [
    "re?"
   ]
  },
  {
   "cell_type": "code",
   "execution_count": null,
   "metadata": {},
   "outputs": [],
   "source": [
    "# the data folder as path\n",
    "DATA_DIR = Path(__file__).parent / \"data\""
   ]
  },
  {
   "cell_type": "code",
   "execution_count": null,
   "metadata": {},
   "outputs": [],
   "source": [
    "# Enter text filename ending on '.filetype'\n",
    "filename = input('Enter a filename\\n>>>')"
   ]
  },
  {
   "cell_type": "code",
   "execution_count": null,
   "metadata": {},
   "outputs": [],
   "source": [
    "# Load data into text wrapper object\n",
    "text_raw = open(DATA_DIR / filename, mode='r')"
   ]
  },
  {
   "cell_type": "code",
   "execution_count": null,
   "metadata": {},
   "outputs": [],
   "source": [
    "# make string object all lower and casefold normalized\n",
    "text_raw_str = text_raw.read().lower().casefold()\n",
    "# use regular expression library to only include alphabetical characters\n",
    "text_clean_str = re.sub(r'[^a-zA-Z\\s]', '', text_raw_str)\n",
    "# split string at 'spaces' (default.split):list\n",
    "text_raw_split = text_clean_str.split()"
   ]
  },
  {
   "cell_type": "code",
   "execution_count": null,
   "metadata": {},
   "outputs": [],
   "source": [
    "text_dict = {}\n",
    "''' Update empty dictionary with every (non unique?) string element as key \n",
    "and its count as value in a new dictionary\n",
    "'''\n",
    "for word in text_raw_split:\n",
    "    text_dict.update({word: text_raw_str.count(word)})"
   ]
  },
  {
   "cell_type": "code",
   "execution_count": null,
   "metadata": {},
   "outputs": [],
   "source": [
    "# text_dict['example']   # 52"
   ]
  },
  {
   "cell_type": "code",
   "execution_count": null,
   "metadata": {},
   "outputs": [],
   "source": [
    "# Sort on values in descending order\n",
    "sorted_on_count = dict(sorted(text_dict.items(), key=lambda item: item[1], reverse=True))\n",
    "print(sorted_on_count)"
   ]
  },
  {
   "cell_type": "code",
   "execution_count": null,
   "metadata": {},
   "outputs": [],
   "source": [
    "# close the 'open()' object\n",
    "text_raw.close()"
   ]
  },
  {
   "cell_type": "code",
   "execution_count": null,
   "metadata": {},
   "outputs": [],
   "source": [
    "# write under 2 conditions. \n",
    "# 1) word is longer than 3 characters\n",
    "# 2) word count is greater than % of total word diversity\n",
    "\n",
    "# write as csv from dictionary\n",
    "output_file_name = 'output.csv'\n",
    "threshold = 0.01    #%\n",
    "\n",
    "try:\n",
    "    with open(output_file_name, mode='w', newline='', encoding='utf-8') as f:\n",
    "        writer = csv.writer(f)\n",
    "\n",
    "        writer.writerow(['Word', 'Count'])\n",
    "        # write under 2 conditions\n",
    "        for key, value in sorted_on_count.items():\n",
    "            if len(key) >= 4 and value >= len(sorted_on_count) * threshold: # comment out to disregard\n",
    "                writer.writerow([key, value])\n",
    "except:\n",
    "    print('Something went wrong')\n",
    "else:\n",
    "    print(f'Your csv file was written as {output_file_name}, containing {len(output_file_name)} entries')"
   ]
  }
 ],
 "metadata": {
  "kernelspec": {
   "display_name": "Python 3",
   "language": "python",
   "name": "python3"
  },
  "language_info": {
   "codemirror_mode": {
    "name": "ipython",
    "version": 3
   },
   "file_extension": ".py",
   "mimetype": "text/x-python",
   "name": "python",
   "nbconvert_exporter": "python",
   "pygments_lexer": "ipython3",
   "version": "3.10.10"
  }
 },
 "nbformat": 4,
 "nbformat_minor": 2
}
