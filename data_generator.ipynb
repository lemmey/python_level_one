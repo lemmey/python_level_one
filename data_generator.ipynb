{
 "cells": [
  {
   "cell_type": "markdown",
   "metadata": {},
   "source": [
    "# `Random data generator with pandas`\n",
    "___\n",
    "An outline for a random data generator using pandas dataframe."
   ]
  },
  {
   "cell_type": "code",
   "execution_count": 1,
   "metadata": {},
   "outputs": [],
   "source": [
    "import numpy as np\n",
    "from numpy import random\n",
    "import pandas as pd\n",
    "import random\n",
    "\n",
    "# Add logging modules\n",
    "import logging\n",
    "import os \n",
    "from pathlib import Path\n",
    "\n",
    "# Config Log (log record attributes @docs.python.org /logrecords-attributes)\n",
    "logging.basicConfig(level=logging.INFO, filename='rdg.log', filemode='w',\n",
    "format='%(asctime)s - %(filename)s - %(name)s - %(levelname)s - %(message)s')\n",
    "\n",
    "# logging.debug('This is a debug Message')\n",
    "# logging.info('This is an info Message')\n",
    "# logging.warning('This is a warning Message')\n",
    "# logging.error('This is an error Message')\n",
    "# logging.critical('This is an error Message')"
   ]
  },
  {
   "cell_type": "code",
   "execution_count": null,
   "metadata": {},
   "outputs": [],
   "source": [
    "# create raw series\n",
    "ID_series_array = np.arange(1, 101, 1)\n",
    "\n",
    "# create prices series\n",
    "prices_series_array = np.random.uniform(0.99, 24.99, 100)\n",
    "# ! Round for dataframe\n",
    "\n",
    "d1 = [\"Juicy\", \"Round\", \"Curly\", \"Green\", \"Blue\", \"Flat\", \"Expensive\"]\n",
    "d2 = [\"french\", \"nifty\", \"smelly\", \"invisible\", \"charged\", \"alive\", \"shiny\"]\n",
    "d3 = [\"bread\", \"cheese\", \"honey\", \"fruit\", \"dish washing liquid\", \"batteries\", \"cutlery\"]\n",
    "\n",
    "products_list = []\n",
    "for num in range(1, 101):\n",
    "    appendd1 = random.choice(d1)\n",
    "    appendd2 = random.choice(d2)\n",
    "    appendd3 = random.choice(d3)\n",
    "    products_list.append(f\"{appendd1}, {appendd2} {appendd3}\")\n",
    "\n",
    "products_series_array = np.array(products_list)"
   ]
  },
  {
   "cell_type": "code",
   "execution_count": null,
   "metadata": {},
   "outputs": [],
   "source": [
    "# create dataframe\n",
    "data = {\n",
    "    'ID': ID_series_array,\n",
    "    'Product': products_series_array,\n",
    "    'Price ($)': np.round(prices_series_array, 2),\n",
    "}\n",
    "\n",
    "pd_data = pd.DataFrame(data, columns=['ID', 'Product', 'Price ($)'])\n",
    "\n",
    "# change index\n",
    "pd_data = pd_data.set_index('ID')\n",
    "pd_data.head()"
   ]
  },
  {
   "cell_type": "code",
   "execution_count": null,
   "metadata": {},
   "outputs": [],
   "source": [
    "# Save data\n",
    "pd_data.to_csv('random_product_data.csv', index=True)"
   ]
  },
  {
   "cell_type": "markdown",
   "metadata": {},
   "source": [
    "### `Write as program`\n",
    "___"
   ]
  },
  {
   "cell_type": "code",
   "execution_count": 2,
   "metadata": {},
   "outputs": [],
   "source": [
    "def random_data_generator_n(size: int, filename: str) -> None:\n",
    "    \"\"\"Writes pd dataframe (series: ID (index), Product, Price) in csv file.\n",
    "\n",
    "    Args:\n",
    "        size (int): n of random datasets generated\n",
    "    \"\"\"\n",
    "    data_n = size\n",
    "    logging.info(f' Dataset size {size}')\n",
    "\n",
    "    ID_series_array = np.arange(1, 1 + data_n, 1)\n",
    "    prices_series_array = np.random.uniform(0.99, 24.99, data_n)\n",
    "\n",
    "    dx = {\n",
    "        'd1': [\"Juicy\", \"Round\", \"Curly\", \"Green\", \"Blue\", \"Flat\", \"Expensive\"],\n",
    "        'd2': [\"french\", \"nifty\", \"smelly\", \"invisible\", \"charged\", \"alive\", \"shiny\"],\n",
    "        'd3': [\"bread\", \"cheese\", \"honey\", \"fruit\", \"dish washing liquid\", \"batteries\", \"cutlery\"],\n",
    "    }   \n",
    "\n",
    "    products_list = []\n",
    "    for num in range(1, 1 + data_n):\n",
    "        appendd1 = random.choice(dx['d1'])\n",
    "        appendd2 = random.choice(dx['d2'])\n",
    "        appendd3 = random.choice(dx['d3'])\n",
    "        products_list.append(f\"{appendd1}, {appendd2} {appendd3}\")\n",
    "\n",
    "    products_series_array = np.array(products_list)\n",
    "\n",
    "    data = {\n",
    "        'ID': ID_series_array,\n",
    "        'Product': products_series_array,\n",
    "        'Price ($)': np.round(prices_series_array, 2),\n",
    "    }\n",
    "\n",
    "    pd_data = pd.DataFrame(data, columns=['ID', 'Product', 'Price ($)'])\n",
    "\n",
    "    pd_data = pd_data.set_index('ID')\n",
    "\n",
    "    pd_data.to_csv(filename, index=True)\n",
    "    logging.info(f'File was saved as {filename}')\n",
    "    # pd_data[pd_data.duplicated() == True]\n",
    "\n",
    "# add error handling (try/except)"
   ]
  },
  {
   "cell_type": "code",
   "execution_count": 9,
   "metadata": {},
   "outputs": [
    {
     "name": "stdout",
     "output_type": "stream",
     "text": [
      "Data was created successfully\n"
     ]
    }
   ],
   "source": [
    "if __name__ == \"__main__\":\n",
    "    try:\n",
    "        random_data_generator_n(500, 'new_product_data.csv')\n",
    "    except TypeError:\n",
    "        print('First value must be an integer, second value a \\'string\\'')\n",
    "    except:\n",
    "        print('Ups, something went wrong!')\n",
    "    else:\n",
    "        print('Data was created successfully')"
   ]
  }
 ],
 "metadata": {
  "kernelspec": {
   "display_name": "Python 3.11.3 64-bit",
   "language": "python",
   "name": "python3"
  },
  "language_info": {
   "codemirror_mode": {
    "name": "ipython",
    "version": 3
   },
   "file_extension": ".py",
   "mimetype": "text/x-python",
   "name": "python",
   "nbconvert_exporter": "python",
   "pygments_lexer": "ipython3",
   "version": "3.11.3"
  },
  "orig_nbformat": 4,
  "vscode": {
   "interpreter": {
    "hash": "9ccc6a538a0da06e903987474074493caf94daa74ed2a90c8f8989e97d2dea89"
   }
  }
 },
 "nbformat": 4,
 "nbformat_minor": 2
}
